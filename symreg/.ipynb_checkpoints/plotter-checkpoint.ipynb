{
 "cells": [
  {
   "cell_type": "code",
   "execution_count": 1,
   "metadata": {
    "collapsed": true
   },
   "outputs": [],
   "source": [
    "import sys\n",
    "import pandas as pd\n",
    "\n",
    "import matplotlib.pyplot as plt"
   ]
  },
  {
   "cell_type": "code",
   "execution_count": 6,
   "metadata": {
    "collapsed": false
   },
   "outputs": [
    {
     "name": "stdout",
     "output_type": "stream",
     "text": [
      "     members  crossover  mutation  random  result\n",
      "0         10        0.5       0.3     0.1       4\n",
      "1         10        0.5       0.3     0.1     249\n",
      "2         10        0.5       0.3     0.1     360\n",
      "3         10        0.5       0.3     0.1     500\n",
      "4         10        0.5       0.3     0.1     500\n",
      "5         10        0.5       0.3     0.1       7\n",
      "6         10        0.5       0.3     0.1     456\n",
      "7         10        0.5       0.3     0.1     350\n",
      "8         10        0.5       0.3     0.1     425\n",
      "9         10        0.5       0.3     0.1     500\n",
      "10        10        0.5       0.3     0.1     336\n",
      "11        10        0.5       0.3     0.1      10\n",
      "12        10        0.5       0.3     0.1     383\n",
      "13        10        0.5       0.3     0.1     245\n",
      "14        10        0.5       0.3     0.1     131\n",
      "15        10        0.5       0.3     0.1     148\n",
      "16        10        0.5       0.3     0.1     500\n",
      "17        10        0.5       0.3     0.1     124\n",
      "18        10        0.5       0.3     0.1     458\n",
      "19        10        0.5       0.3     0.1     500\n",
      "20        20        0.5       0.3     0.1      22\n",
      "21        20        0.5       0.3     0.1      29\n",
      "22        20        0.5       0.3     0.1      35\n",
      "23        20        0.5       0.3     0.1      17\n",
      "24        20        0.5       0.3     0.1      56\n",
      "25        20        0.5       0.3     0.1      35\n",
      "26        20        0.5       0.3     0.1      31\n",
      "27        20        0.5       0.3     0.1      37\n",
      "28        20        0.5       0.3     0.1      34\n",
      "29        20        0.5       0.3     0.1      29\n",
      "..       ...        ...       ...     ...     ...\n",
      "90       100        0.5       0.3     0.1       1\n",
      "91       100        0.5       0.3     0.1      10\n",
      "92       100        0.5       0.3     0.1      21\n",
      "93       100        0.5       0.3     0.1       2\n",
      "94       100        0.5       0.3     0.1      15\n",
      "95       100        0.5       0.3     0.1      13\n",
      "96       100        0.5       0.3     0.1      15\n",
      "97       100        0.5       0.3     0.1      13\n",
      "98       100        0.5       0.3     0.1      17\n",
      "99       100        0.5       0.3     0.1       1\n",
      "100      200        0.5       0.3     0.1       7\n",
      "101      200        0.5       0.3     0.1       8\n",
      "102      200        0.5       0.3     0.1       1\n",
      "103      200        0.5       0.3     0.1       1\n",
      "104      200        0.5       0.3     0.1       6\n",
      "105      200        0.5       0.3     0.1       7\n",
      "106      200        0.5       0.3     0.1       1\n",
      "107      200        0.5       0.3     0.1       8\n",
      "108      200        0.5       0.3     0.1      10\n",
      "109      200        0.5       0.3     0.1       3\n",
      "110      200        0.5       0.3     0.1      24\n",
      "111      200        0.5       0.3     0.1       6\n",
      "112      200        0.5       0.3     0.1      16\n",
      "113      200        0.5       0.3     0.1       5\n",
      "114      200        0.5       0.3     0.1      13\n",
      "115      200        0.5       0.3     0.1      11\n",
      "116      200        0.5       0.3     0.1       5\n",
      "117      200        0.5       0.3     0.1       3\n",
      "118      200        0.5       0.3     0.1      16\n",
      "119      200        0.5       0.3     0.1       4\n",
      "\n",
      "[120 rows x 5 columns]\n"
     ]
    }
   ],
   "source": [
    "dataset = pd.read_csv(\"results.csv\")\n",
    "\n",
    "print(dataset)"
   ]
  },
  {
   "cell_type": "code",
   "execution_count": 23,
   "metadata": {
    "collapsed": false
   },
   "outputs": [
    {
     "data": {
      "text/plain": [
       "array([ 10,  20,  30,  50, 100, 200])"
      ]
     },
     "execution_count": 23,
     "metadata": {},
     "output_type": "execute_result"
    }
   ],
   "source": [
    "members = dataset.members.unique()\n",
    "members"
   ]
  },
  {
   "cell_type": "code",
   "execution_count": 25,
   "metadata": {
    "collapsed": false
   },
   "outputs": [
    {
     "data": {
      "text/plain": [
       "[309.3, 36.7, 27.2, 21.65, 11.9, 7.75]"
      ]
     },
     "execution_count": 25,
     "metadata": {},
     "output_type": "execute_result"
    }
   ],
   "source": [
    "means = []\n",
    "for m in members:\n",
    "    means.append(dataset.loc[dataset.members == m].result.mean())\n",
    "means"
   ]
  },
  {
   "cell_type": "code",
   "execution_count": 29,
   "metadata": {
    "collapsed": false
   },
   "outputs": [
    {
     "data": {
      "image/png": "[encoded data removed]",
      "text/plain": [
       "<matplotlib.figure.Figure at 0x110f12c50>"
      ]
     },
     "metadata": {},
     "output_type": "display_data"
    }
   ],
   "source": [
    "plt.plot(members[1:], means[1:])\n",
    "plt.xlabel('number of members used')\n",
    "plt.ylabel('average number of generations required')\n",
    "plt.show()"
   ]
  }
 ],
 "metadata": {
  "kernelspec": {
   "display_name": "Python 3",
   "language": "python",
   "name": "python3"
  },
  "language_info": {
   "codemirror_mode": {
    "name": "ipython",
    "version": 3
   },
   "file_extension": ".py",
   "mimetype": "text/x-python",
   "name": "python",
   "nbconvert_exporter": "python",
   "pygments_lexer": "ipython3",
   "version": "3.6.0"
  }
 },
 "nbformat": 4,
 "nbformat_minor": 2
}
